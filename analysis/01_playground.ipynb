{
 "cells": [
  {
   "cell_type": "markdown",
   "id": "cfa6a6e7-6df6-48f6-9f3a-07b7b52498d7",
   "metadata": {},
   "source": [
    "<font size=\"+3\"><strong>Playground</strong></font>"
   ]
  },
  {
   "cell_type": "markdown",
   "id": "0765d579-dae0-4ce2-a404-805a34143912",
   "metadata": {},
   "source": [
    "Load libraries"
   ]
  },
  {
   "cell_type": "code",
   "execution_count": null,
   "id": "37b22e63-3ba4-44d4-aa10-0fdee8ae9c5c",
   "metadata": {},
   "outputs": [],
   "source": [
    "import pandas as pd\n",
    "import matplotlib.pyplot as plt\n",
    "import seaborn as sns"
   ]
  },
  {
   "cell_type": "markdown",
   "id": "51fc486a-d5d1-4623-9467-f129598eef26",
   "metadata": {},
   "source": [
    "# Load data"
   ]
  },
  {
   "cell_type": "markdown",
   "id": "d96ffe5e-9ec0-4148-985d-98384e18140f",
   "metadata": {},
   "source": [
    "During data loading we will use knowledge received from the prevous section: **00_exploring_data**."
   ]
  },
  {
   "cell_type": "code",
   "execution_count": null,
   "id": "a2d62939-363d-4b90-8aa8-6650ec3f7a15",
   "metadata": {},
   "outputs": [],
   "source": [
    "def load_data(file_path):\n",
    "    df = pd.read_json(file_path)\n",
    "    \n",
    "    # mask only known prices\n",
    "    known_price_mask = (df['price'].str.contains(pat='€ \\d+[\\d,]*\\d+ kosten koper', regex=True) == True) \\\n",
    "                       | (df['price'].str.contains(pat='€ \\d+[\\d,]*\\d+ vrij op naam', regex=True) == True)\n",
    "    df = df[known_price_mask]\n",
    "    \n",
    "    # convert prices to numbers\n",
    "    df['price'] = df['price'].str.split(' ').str[1].str.replace(',', '').astype(float) / 1000\n",
    "    \n",
    "    # convert living areato numbers\n",
    "    df['living_area'] = df['living_area'].str.replace(',', '').astype(float)\n",
    "    \n",
    "    # keep properties with clear construction date\n",
    "    df['year_of_construction'] = pd.to_numeric(df['year_of_construction'], errors='coerce')\n",
    "    \n",
    "    return df\n",
    "\n",
    "df = load_data('../data/funda_15_08_2022.json')\n",
    "df.info()"
   ]
  },
  {
   "cell_type": "markdown",
   "id": "ca67e7e3-ca75-48b4-b275-c2c45285fb23",
   "metadata": {},
   "source": [
    "## Price distribution by towns\n",
    "\n",
    "I'm interested in properties not older than 1990 and between 80-100 square meters (which is much smaller than average property on Funda)."
   ]
  },
  {
   "cell_type": "code",
   "execution_count": null,
   "id": "51dc7b85-925f-4110-af28-eb938a336552",
   "metadata": {},
   "outputs": [],
   "source": [
    "# filter by construction date (after 1990 and should be already built)\n",
    "mask_year_of_construction = (df['year_of_construction'] >= 1990) & (df['year_of_construction'] < 2023)\n",
    "df = df[mask_year_of_construction]\n",
    "\n",
    "# filter by living area\n",
    "mask_living_area = df['living_area'].between(80, 100)\n",
    "df = df[mask_living_area]\n",
    "\n",
    "# drop small towns (less than 20 properties of required parameters on sale)\n",
    "value_counts = df['town'].value_counts()\n",
    "to_remove = value_counts[value_counts < 20].index\n",
    "df = df[~df.town.isin(to_remove)]\n",
    "print(f'Towns with matched properties:\\n{value_counts}')\n",
    "\n",
    "# trimming the botton and top 10% by price for each town\n",
    "data_frame = pd.DataFrame()\n",
    "for town in df['town'].unique():\n",
    "    partial_mask = df['town'] == town\n",
    "    min, max = df[partial_mask]['price'].quantile([0.1, 0.9])\n",
    "    mask = (df['town'] == town) & (df['price'].between(min, max))\n",
    "    data_frame = pd.concat([df, df[mask]])\n",
    "df = data_frame\n",
    "\n",
    "# draw plot\n",
    "f = plt.figure()\n",
    "f.set_figwidth(20)\n",
    "f.set_figheight(5)\n",
    "sns.boxplot(x=\"price\", y=\"town\", data=df, orient='h')\n",
    "plt.xlabel('Price in thousands of EUR')\n",
    "plt.ylabel('Town')\n",
    "plt.title('Distribution of Home Prices')\n",
    "plt.show()"
   ]
  },
  {
   "cell_type": "code",
   "execution_count": null,
   "id": "f89a42bf-3034-4244-9b58-81abfb7d49ad",
   "metadata": {},
   "outputs": [],
   "source": []
  }
 ],
 "metadata": {
  "kernelspec": {
   "display_name": "Python 3 (ipykernel)",
   "language": "python",
   "name": "python3"
  },
  "language_info": {
   "codemirror_mode": {
    "name": "ipython",
    "version": 3
   },
   "file_extension": ".py",
   "mimetype": "text/x-python",
   "name": "python",
   "nbconvert_exporter": "python",
   "pygments_lexer": "ipython3",
   "version": "3.9.12"
  }
 },
 "nbformat": 4,
 "nbformat_minor": 5
}
