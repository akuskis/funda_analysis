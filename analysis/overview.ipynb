{
 "cells": [
  {
   "cell_type": "markdown",
   "id": "cfa6a6e7-6df6-48f6-9f3a-07b7b52498d7",
   "metadata": {},
   "source": [
    "<font size=\"+3\"><strong>Exploring the Data</strong></font>"
   ]
  },
  {
   "cell_type": "markdown",
   "id": "0765d579-dae0-4ce2-a404-805a34143912",
   "metadata": {},
   "source": [
    "In this project, we're going to work with data from the [Funda](https://funda.nl). This company provides houses pricing in the Netherlands.\n",
    "\n",
    "Keep in mind that **Funda** prices are just a starting point and properties usually sold for 110% of their price or even more than 120% due to a auction nature.\n",
    "During this auction, you should not know bids of others, but this is not true, because agents sometimes share current bids with their clients (this is not legal, but happens).\n",
    "In addition, lower bid can win, because the person is not going to take out any loans (cash is ready to be transferred).\n",
    "\n",
    "Additional expenses usually around 7%, but this is just additional information about property market in the Netherlands."
   ]
  },
  {
   "cell_type": "code",
   "execution_count": 5,
   "id": "37b22e63-3ba4-44d4-aa10-0fdee8ae9c5c",
   "metadata": {},
   "outputs": [],
   "source": [
    "import pandas as pd"
   ]
  },
  {
   "cell_type": "markdown",
   "id": "51fc486a-d5d1-4623-9467-f129598eef26",
   "metadata": {},
   "source": [
    "# Prepare data"
   ]
  },
  {
   "cell_type": "markdown",
   "id": "d96ffe5e-9ec0-4148-985d-98384e18140f",
   "metadata": {},
   "source": [
    "First, we need to load data. At this pount you already should have dump of data from [Funda](https://funda.nl) (please follow the README file of this project)."
   ]
  },
  {
   "cell_type": "code",
   "execution_count": 8,
   "id": "a2d62939-363d-4b90-8aa8-6650ec3f7a15",
   "metadata": {},
   "outputs": [
    {
     "name": "stdout",
     "output_type": "stream",
     "text": [
      "<class 'pandas.core.frame.DataFrame'>\n",
      "RangeIndex: 27558 entries, 0 to 27557\n",
      "Data columns (total 9 columns):\n",
      " #   Column                Non-Null Count  Dtype \n",
      "---  ------                --------------  ----- \n",
      " 0   url                   27558 non-null  object\n",
      " 1   property_type         27558 non-null  object\n",
      " 2   town                  27558 non-null  object\n",
      " 3   address               27558 non-null  object\n",
      " 4   postcode              27558 non-null  object\n",
      " 5   price                 27558 non-null  object\n",
      " 6   building_type         27558 non-null  object\n",
      " 7   living_area           27558 non-null  object\n",
      " 8   year_of_construction  26739 non-null  object\n",
      "dtypes: object(9)\n",
      "memory usage: 1.9+ MB\n"
     ]
    }
   ],
   "source": [
    "df = pd.read_json('../scrapy/x.json_backup')\n",
    "df.info()"
   ]
  }
 ],
 "metadata": {
  "kernelspec": {
   "display_name": "Python 3 (ipykernel)",
   "language": "python",
   "name": "python3"
  },
  "language_info": {
   "codemirror_mode": {
    "name": "ipython",
    "version": 3
   },
   "file_extension": ".py",
   "mimetype": "text/x-python",
   "name": "python",
   "nbconvert_exporter": "python",
   "pygments_lexer": "ipython3",
   "version": "3.9.12"
  }
 },
 "nbformat": 4,
 "nbformat_minor": 5
}
