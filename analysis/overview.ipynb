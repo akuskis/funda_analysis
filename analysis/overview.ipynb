{
 "cells": [
  {
   "cell_type": "markdown",
   "id": "cfa6a6e7-6df6-48f6-9f3a-07b7b52498d7",
   "metadata": {},
   "source": [
    "<font size=\"+3\"><strong>Exploring the Data</strong></font>"
   ]
  },
  {
   "cell_type": "markdown",
   "id": "0765d579-dae0-4ce2-a404-805a34143912",
   "metadata": {},
   "source": [
    "In this project we're going to work with data from the [Funda](https://funda.nl). This company provides houses pricing in the Netherlands.\n",
    "\n",
    "Keep in mind that **Funda** prices are just a starting point and properties usually sold for 110% of their price or even more than 120% due to the auction nature.\n",
    "During this auction, you should not know bids of others, but this is not true, because agents sometimes share current bids with their clients (this is not legal, but happens).\n",
    "In addition, lower bid can win, because the person is not going to take out any loans (cash is ready to be transferred).\n",
    "\n",
    "Additional expenses usually around 7%, but this is just additional information about property market in the Netherlands."
   ]
  },
  {
   "cell_type": "code",
   "execution_count": null,
   "id": "37b22e63-3ba4-44d4-aa10-0fdee8ae9c5c",
   "metadata": {},
   "outputs": [],
   "source": [
    "import pandas as pd\n",
    "import matplotlib.pyplot as plt"
   ]
  },
  {
   "cell_type": "markdown",
   "id": "51fc486a-d5d1-4623-9467-f129598eef26",
   "metadata": {},
   "source": [
    "# Prepare data"
   ]
  },
  {
   "cell_type": "markdown",
   "id": "d96ffe5e-9ec0-4148-985d-98384e18140f",
   "metadata": {},
   "source": [
    "First, we need to load data. At this pount you already should have dump of data from [Funda](https://funda.nl) (if not, please follow the README file of this project)."
   ]
  },
  {
   "cell_type": "code",
   "execution_count": null,
   "id": "a2d62939-363d-4b90-8aa8-6650ec3f7a15",
   "metadata": {},
   "outputs": [],
   "source": [
    "df = pd.read_json('../scrapy/x.json_backup')\n",
    "df.info()\n",
    "df.head()"
   ]
  },
  {
   "cell_type": "markdown",
   "id": "ca67e7e3-ca75-48b4-b275-c2c45285fb23",
   "metadata": {},
   "source": [
    "All fields are dumped as a string. It is necessary to convert fields like **price**, **year_of_construction** and **living_area**.\n",
    "\n",
    "## Field \"price\"\n",
    "\n",
    "This field has three different states:\n",
    "* start price is known (example: \"\")\n",
    "* .\n",
    "* ."
   ]
  },
  {
   "cell_type": "code",
   "execution_count": null,
   "id": "51dc7b85-925f-4110-af28-eb938a336552",
   "metadata": {},
   "outputs": [],
   "source": []
  },
  {
   "cell_type": "markdown",
   "id": "43f417a2-34f2-4ea3-9ff8-8ae905b2bf67",
   "metadata": {},
   "source": [
    "## Field \"year_of_construction\"\n",
    "This field ..."
   ]
  },
  {
   "cell_type": "code",
   "execution_count": null,
   "id": "f2b36d51-c896-4939-9824-6d0b9eb4bd08",
   "metadata": {},
   "outputs": [],
   "source": [
    "total_records = df['year_of_construction'].count()\n",
    "print(f'Total records {total_records}')\n",
    "\n",
    "known_year_mask = df['year_of_construction'].str.isdigit() == True\n",
    "known_year_count = df[known_year_mask]['year_of_construction'].count()\n",
    "print(f'Records with known year: {known_year_count}')\n",
    "\n",
    "after_2020_year_mask = df['year_of_construction'] == 'After 2020'\n",
    "after_2020_year_count = df[after_2020_year_mask]['year_of_construction'].count()\n",
    "print(f'Records with known approximate date (after 2020): {after_2020_year_count}')\n",
    "\n",
    "before_1906_year_mask = df['year_of_construction'] == 'Before 1906'\n",
    "before_1906_year_count = df[before_1906_year_mask]['year_of_construction'].count()\n",
    "print(f'Records with known approximate date (before): {before_1906_year_count}')\n",
    "\n",
    "missed_count = df[~single_year_mask & ~after_2020_year_mask & ~before_1906_year_mask]['year_of_construction'].count()\n",
    "assert missed_count == 0, 'Detected new type of records'\n",
    "\n",
    "# plot\n",
    "labels = ['Known year', 'Before 1906', 'After 2020']\n",
    "values = [known_year_count, before_1906_year_count, after_2020_year_count]\n",
    "explode = (0, 0.1, 0.3)\n",
    "\n",
    "fig1, ax1 = plt.subplots()\n",
    "ax1.pie(values, explode=explode, labels=labels, autopct='%1.1f%%',\n",
    "        shadow=True, startangle=90)\n",
    "ax1.axis('equal')  # Equal aspect ratio ensures that pie is drawn as a circle.\n",
    "\n",
    "plt.show()"
   ]
  },
  {
   "cell_type": "markdown",
   "id": "880792f7-cdf4-45a7-aa60-c08eed086cb7",
   "metadata": {},
   "source": [
    "Interesting field: **After 2020** and **Before 1906**. Sounds like there are three ranges: \n",
    "\n",
    "- before 1906\n",
    "- in range from 1906 to 2022\n",
    "- after 2022\n",
    "\n",
    "Lets check, are there any dates before **1906** and after **2020**."
   ]
  },
  {
   "cell_type": "code",
   "execution_count": null,
   "id": "cf68dfef-dbd8-4601-89be-50c622347eb1",
   "metadata": {},
   "outputs": [],
   "source": [
    "df_years = df[known_year_mask]\n",
    "\n",
    "fig, axes = plt.subplots(nrows=2, ncols=1, figsize=[20, 15])\n",
    "\n",
    "# before 1906\n",
    "known_years_before_1906_mask = df_years['year_of_construction'].astype(int) < 1906\n",
    "known_years_before_1906 = df_years[known_years_before_1906_mask]['year_of_construction'].astype(int)\n",
    "known_years_before_1906.plot.hist(bins=50, ax=axes[0]);\n",
    "\n",
    "# after 2020, but found that construction date is not limited (they can sell house which will be built 400 years after, in 2424, so lets filter such cases)\n",
    "known_years_after_2020_mask = (df_years['year_of_construction'].astype(int) > 2020) & (df_years['year_of_construction'].astype(int) < 2040)\n",
    "known_years_after_2020 = df_years[known_years_after_2020_mask]['year_of_construction'].astype(int)\n",
    "known_years_after_2020.plot.hist(bins=5, ax=axes[1]);"
   ]
  },
  {
   "cell_type": "markdown",
   "id": "bbcefaa3-a048-4bbd-a22d-128eb72db40d",
   "metadata": {},
   "source": [
    "As we can see, years are overlapped by **Before 1906** and **After 2020**. In addition years are not limited, so property dated by **2424** was found."
   ]
  },
  {
   "cell_type": "markdown",
   "id": "3718492f-8bd5-4c80-9cc8-e818f5ed0742",
   "metadata": {},
   "source": [
    "## Field \"living_area\"\n",
    "This field ..."
   ]
  },
  {
   "cell_type": "code",
   "execution_count": null,
   "id": "d6a91b83-cfe1-4877-806a-9c6149419b6f",
   "metadata": {},
   "outputs": [],
   "source": []
  }
 ],
 "metadata": {
  "kernelspec": {
   "display_name": "Python 3 (ipykernel)",
   "language": "python",
   "name": "python3"
  },
  "language_info": {
   "codemirror_mode": {
    "name": "ipython",
    "version": 3
   },
   "file_extension": ".py",
   "mimetype": "text/x-python",
   "name": "python",
   "nbconvert_exporter": "python",
   "pygments_lexer": "ipython3",
   "version": "3.9.12"
  }
 },
 "nbformat": 4,
 "nbformat_minor": 5
}
