{
 "cells": [
  {
   "cell_type": "markdown",
   "id": "cfa6a6e7-6df6-48f6-9f3a-07b7b52498d7",
   "metadata": {},
   "source": [
    "<font size=\"+3\"><strong>Exploring the Data</strong></font>"
   ]
  },
  {
   "cell_type": "markdown",
   "id": "0765d579-dae0-4ce2-a404-805a34143912",
   "metadata": {},
   "source": [
    "In this project we're going to work with data from the [Funda](https://funda.nl). This company provides houses pricing in the Netherlands.\n",
    "\n",
    "Keep in mind that **Funda** prices are just a starting point and properties usually sold for 110% of their price or even more than 120% due to the auction nature.\n",
    "During this auction, you should not know bids of others, but this is not true, because agents sometimes share current bids with their clients (this is not legal, but happens).\n",
    "In addition, lower bid can win, because the person is not going to take out any loans (cash is ready to be transferred).\n",
    "\n",
    "Additional expenses usually around 7%, but this is just additional information about property market in the Netherlands."
   ]
  },
  {
   "cell_type": "code",
   "execution_count": null,
   "id": "37b22e63-3ba4-44d4-aa10-0fdee8ae9c5c",
   "metadata": {},
   "outputs": [],
   "source": [
    "import pandas as pd"
   ]
  },
  {
   "cell_type": "markdown",
   "id": "51fc486a-d5d1-4623-9467-f129598eef26",
   "metadata": {},
   "source": [
    "# Prepare data"
   ]
  },
  {
   "cell_type": "markdown",
   "id": "d96ffe5e-9ec0-4148-985d-98384e18140f",
   "metadata": {},
   "source": [
    "First, we need to load data. At this pount you already should have dump of data from [Funda](https://funda.nl) (if not, please follow the README file of this project)."
   ]
  },
  {
   "cell_type": "code",
   "execution_count": null,
   "id": "a2d62939-363d-4b90-8aa8-6650ec3f7a15",
   "metadata": {},
   "outputs": [],
   "source": [
    "df = pd.read_json('../scrapy/x.json_backup')\n",
    "df.info()\n",
    "df.head()"
   ]
  },
  {
   "cell_type": "markdown",
   "id": "ca67e7e3-ca75-48b4-b275-c2c45285fb23",
   "metadata": {},
   "source": [
    "All fields are dumped as a string. It is necessary to convert fields like **price**, **year_of_construction** and **living_area**.\n",
    "\n",
    "## Field \"price\"\n",
    "\n",
    "This field has three different states:\n",
    "* start price is known (example: \"\")\n",
    "* .\n",
    "* ."
   ]
  },
  {
   "cell_type": "code",
   "execution_count": null,
   "id": "51dc7b85-925f-4110-af28-eb938a336552",
   "metadata": {},
   "outputs": [],
   "source": []
  },
  {
   "cell_type": "markdown",
   "id": "43f417a2-34f2-4ea3-9ff8-8ae905b2bf67",
   "metadata": {},
   "source": [
    "## Field \"year_of_construction\"\n",
    "This field ..."
   ]
  },
  {
   "cell_type": "code",
   "execution_count": null,
   "id": "f2b36d51-c896-4939-9824-6d0b9eb4bd08",
   "metadata": {},
   "outputs": [],
   "source": []
  },
  {
   "cell_type": "markdown",
   "id": "3718492f-8bd5-4c80-9cc8-e818f5ed0742",
   "metadata": {},
   "source": [
    "## Field \"living_area\"\n",
    "This field ..."
   ]
  },
  {
   "cell_type": "code",
   "execution_count": null,
   "id": "d6a91b83-cfe1-4877-806a-9c6149419b6f",
   "metadata": {},
   "outputs": [],
   "source": []
  }
 ],
 "metadata": {
  "kernelspec": {
   "display_name": "Python 3 (ipykernel)",
   "language": "python",
   "name": "python3"
  },
  "language_info": {
   "codemirror_mode": {
    "name": "ipython",
    "version": 3
   },
   "file_extension": ".py",
   "mimetype": "text/x-python",
   "name": "python",
   "nbconvert_exporter": "python",
   "pygments_lexer": "ipython3",
   "version": "3.9.12"
  }
 },
 "nbformat": 4,
 "nbformat_minor": 5
}
